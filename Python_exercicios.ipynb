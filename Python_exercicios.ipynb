{
  "nbformat": 4,
  "nbformat_minor": 0,
  "metadata": {
    "colab": {
      "provenance": [],
      "authorship_tag": "ABX9TyN0MOTNlzGQPbcvEMzwUiuj",
      "include_colab_link": true
    },
    "kernelspec": {
      "name": "python3",
      "display_name": "Python 3"
    },
    "language_info": {
      "name": "python"
    }
  },
  "cells": [
    {
      "cell_type": "markdown",
      "metadata": {
        "id": "view-in-github",
        "colab_type": "text"
      },
      "source": [
        "<a href=\"https://colab.research.google.com/github/fgrdz/Estudos-Python/blob/main/Python_exercicios.ipynb\" target=\"_parent\"><img src=\"https://colab.research.google.com/assets/colab-badge.svg\" alt=\"Open In Colab\"/></a>"
      ]
    },
    {
      "cell_type": "markdown",
      "source": [
        "# Caderno de Exercícios python"
      ],
      "metadata": {
        "id": "RoUrL2fkGtMp"
      }
    },
    {
      "cell_type": "code",
      "execution_count": null,
      "metadata": {
        "colab": {
          "base_uri": "https://localhost:8080/"
        },
        "id": "xt7ci6tYGq_e",
        "outputId": "53e08b28-3988-4cc8-d508-9cc398e0ecfd"
      },
      "outputs": [
        {
          "output_type": "stream",
          "name": "stdout",
          "text": [
            "Antes do aumento:\n",
            "Nome: João, Cargo: Desenvolvedor, Salário: R$5000.00\n",
            "\n",
            "Depois do aumento:\n",
            "Nome: João, Cargo: Desenvolvedor, Salário: R$5500.00\n"
          ]
        }
      ],
      "source": [
        "class Funcionario:\n",
        "    def __init__(self, nome, cargo, salario):\n",
        "        self.nome = nome\n",
        "        self.cargo = cargo\n",
        "        self.salario = salario\n",
        "\n",
        "    def atualizar_salario(self):\n",
        "        self.salario *= 1.10  # Aumenta o salário em 10%\n",
        "\n",
        "    def __str__(self):\n",
        "        return f\"Nome: {self.nome}, Cargo: {self.cargo}, Salário: R${self.salario:.2f}\"\n",
        "\n",
        "\n",
        "    funcionario1 = Funcionario(\"João\", \"Desenvolvedor\", 5000.0)\n",
        "    print(\"Antes do aumento:\")\n",
        "    print(funcionario1)\n",
        "\n",
        "    funcionario1.atualizar_salario()\n",
        "    print(\"\\nDepois do aumento:\")\n",
        "    print(funcionario1)\n"
      ]
    },
    {
      "cell_type": "code",
      "source": [
        "def busca_binaria(arr, alvo):\n",
        "  esquerda, direita = 0, len(arr) -1\n",
        "\n",
        "  while esquerda <= direita:\n",
        "    meio = (esquerda + direita)//2\n",
        "\n",
        "    if alvo == arr[meio]:\n",
        "      return meio\n",
        "    elif alvo < arr[meio]:\n",
        "      direita = meio - 1\n",
        "    else:\n",
        "      esquerda = meio + 1\n",
        "\n",
        "  return -1\n",
        "\n",
        "arr = [1,2,3,4,5,6,7,8]\n",
        "alvo = 8\n",
        "busca_binaria(arr,alvo)"
      ],
      "metadata": {
        "colab": {
          "base_uri": "https://localhost:8080/"
        },
        "id": "SVQ-csM8tXYt",
        "outputId": "3ee7ded3-7dfc-441d-8aeb-70863fd44656"
      },
      "execution_count": null,
      "outputs": [
        {
          "output_type": "execute_result",
          "data": {
            "text/plain": [
              "7"
            ]
          },
          "metadata": {},
          "execution_count": 15
        }
      ]
    },
    {
      "cell_type": "code",
      "source": [
        "def removeElement(nums, val):\n",
        "    # Initialize a variable to keep track of the position to write non-val elements\n",
        "    k = 0\n",
        "\n",
        "    # Iterate through the array\n",
        "    for i in range(len(nums)):\n",
        "        if nums[i] != val:\n",
        "            # If the current element is not equal to val, copy it to the position k\n",
        "            nums[k] = nums[i]\n",
        "            k += 1\n",
        "\n",
        "    # The first k elements of nums now contain non-val elements\n",
        "    return k\n",
        "\n",
        "# Example usage:\n",
        "nums = [3, 2, 2, 3]\n",
        "val = 3\n",
        "k = removeElement(nums, val)\n",
        "print(\"Output:\", k, \"nums =\", nums[:k])"
      ],
      "metadata": {
        "id": "jmm68RI6XOil",
        "outputId": "9bfa8648-f86e-47b2-a935-504986a3c051",
        "colab": {
          "base_uri": "https://localhost:8080/"
        }
      },
      "execution_count": null,
      "outputs": [
        {
          "output_type": "stream",
          "name": "stdout",
          "text": [
            "Output: 2 nums = [2, 2]\n"
          ]
        }
      ]
    },
    {
      "cell_type": "code",
      "source": [
        "class Solution(object):\n",
        "    def removeDuplicates(self, nums):\n",
        "      k = 1\n",
        "\n",
        "      for i in range(1, len(nums)):\n",
        "        if nums[i] != nums[i-1]:\n",
        "          k+=1\n",
        "          nums[k-1] = nums[k]\n",
        "      return k\n",
        "\n",
        "\n",
        "lista = [1,1,2,3,3,4,5,6]\n",
        "remove_duplicates(lista)"
      ],
      "metadata": {
        "colab": {
          "base_uri": "https://localhost:8080/"
        },
        "id": "kUGsB4X0Dn1U",
        "outputId": "e1d6715f-bad1-42fe-cd4f-5a67b0754868"
      },
      "execution_count": 13,
      "outputs": [
        {
          "output_type": "execute_result",
          "data": {
            "text/plain": [
              "[1, 2, 3, 4, 5, 6]"
            ]
          },
          "metadata": {},
          "execution_count": 13
        }
      ]
    }
  ]
}